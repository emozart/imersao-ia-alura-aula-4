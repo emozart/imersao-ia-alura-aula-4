{
  "nbformat": 4,
  "nbformat_minor": 0,
  "metadata": {
    "colab": {
      "provenance": [],
      "authorship_tag": "ABX9TyOPWixH9f+OYarhW2eeIyKJ",
      "include_colab_link": true
    },
    "kernelspec": {
      "name": "python3",
      "display_name": "Python 3"
    },
    "language_info": {
      "name": "python"
    }
  },
  "cells": [
    {
      "cell_type": "markdown",
      "metadata": {
        "id": "view-in-github",
        "colab_type": "text"
      },
      "source": [
        "<a href=\"https://colab.research.google.com/github/emozart/imersao-ia-alura-aula-4/blob/main/imersao_alura_aula_4.ipynb\" target=\"_parent\"><img src=\"https://colab.research.google.com/assets/colab-badge.svg\" alt=\"Open In Colab\"/></a>"
      ]
    },
    {
      "cell_type": "code",
      "execution_count": 3,
      "metadata": {
        "id": "pj3FixAmauY3"
      },
      "outputs": [],
      "source": [
        "!pip install -q -U google-generativeai"
      ]
    },
    {
      "cell_type": "code",
      "source": [
        "import google.generativeai as genai\n",
        "from google.colab import userdata"
      ],
      "metadata": {
        "id": "AnGjLypOcFG3"
      },
      "execution_count": 4,
      "outputs": []
    },
    {
      "cell_type": "code",
      "source": [
        "GOOGLE_API_KEY=userdata.get('GOOGLE_API_KEY')"
      ],
      "metadata": {
        "id": "YV7PHZBNcX3L"
      },
      "execution_count": 5,
      "outputs": []
    },
    {
      "cell_type": "code",
      "source": [
        "genai.configure(api_key=GOOGLE_API_KEY)"
      ],
      "metadata": {
        "id": "FKQpyelqckhr"
      },
      "execution_count": 6,
      "outputs": []
    },
    {
      "cell_type": "code",
      "source": [
        "generation_config = {\n",
        "    'candidate_count': 1,\n",
        "    'temperature': 0.5,\n",
        "}"
      ],
      "metadata": {
        "id": "vOx7n4iwk1YK"
      },
      "execution_count": 8,
      "outputs": []
    },
    {
      "cell_type": "code",
      "source": [
        "safety_settings = {\n",
        "    'HARASSMENT': 'BLOCK_NONE',\n",
        "    'HATE': 'BLOCK_NONE',\n",
        "    'SEXUAL': 'BLOCK_NONE',\n",
        "    'DANGEROUS': 'BLOCK_NONE',\n",
        "}"
      ],
      "metadata": {
        "id": "jRxO9rXelL3A"
      },
      "execution_count": 9,
      "outputs": []
    },
    {
      "cell_type": "code",
      "source": [
        "model = genai.GenerativeModel('gemini-1.0-pro', generation_config=generation_config, safety_settings=safety_settings)"
      ],
      "metadata": {
        "id": "VYCaEvrxmNO0"
      },
      "execution_count": 10,
      "outputs": []
    },
    {
      "cell_type": "code",
      "source": [
        "response = model.generate_content('Escreva um poema bem humorado sobre cachorros com três blocos de 4 linhas.')\n",
        "print(response.text)"
      ],
      "metadata": {
        "colab": {
          "base_uri": "https://localhost:8080/",
          "height": 295
        },
        "collapsed": true,
        "id": "KjnC3c3_nocX",
        "outputId": "ae15bec2-6e01-4782-e845-d0ce31f153bc"
      },
      "execution_count": 11,
      "outputs": [
        {
          "output_type": "stream",
          "name": "stdout",
          "text": [
            "**Ode aos Cães**\n",
            "\n",
            "Com focinhos úmidos e rabos abanando,\n",
            "Eles trazem alegria, nunca se cansando.\n",
            "Latidos alegres, um som tão querido,\n",
            "Cães leais, sempre ao nosso lado.\n",
            "\n",
            "Eles nos seguem por toda parte,\n",
            "Com olhos brilhantes, cheios de arte.\n",
            "Brincalhões e bobos, eles nos fazem rir,\n",
            "Companheiros preciosos, que nos fazem sorrir.\n",
            "\n",
            "Com patas peludas e orelhas caídas,\n",
            "Eles roubam nossos corações, não há dúvidas.\n",
            "Cães maravilhosos, uma bênção na vida,\n",
            "Nossos amigos peludos, para sempre queridos.\n"
          ]
        }
      ]
    },
    {
      "cell_type": "code",
      "source": [
        "chat = model.start_chat(history=[])"
      ],
      "metadata": {
        "id": "D1etBYPgpZTg"
      },
      "execution_count": 12,
      "outputs": []
    },
    {
      "cell_type": "code",
      "source": [
        "prompt = input('Digite uma pergunta: ')\n",
        "while prompt != 'sair':\n",
        "  response = chat.send_message(prompt)\n",
        "  print(response.text)\n",
        "  prompt = input('Digite uma pergunta: ')"
      ],
      "metadata": {
        "colab": {
          "base_uri": "https://localhost:8080/",
          "height": 454
        },
        "collapsed": true,
        "id": "TXISgytqp1iP",
        "outputId": "0f97a6db-c5ee-442e-d74e-a5a5b74b6975"
      },
      "execution_count": 13,
      "outputs": [
        {
          "name": "stdout",
          "output_type": "stream",
          "text": [
            "Digite uma pergunta: Qual o capital do Brasil?\n",
            "Brasília\n",
            "Digite uma pergunta: O que tem de bom lá?\n",
            "Brasília, a capital do Brasil, oferece uma variedade de atrações e experiências únicas:\n",
            "\n",
            "* **Arquitetura icônica:** Projetada pelo arquiteto Oscar Niemeyer, Brasília é conhecida por sua arquitetura modernista e futurista, incluindo marcos como a Catedral Metropolitana, o Palácio da Alvorada e o Congresso Nacional.\n",
            "* **Espaços verdes:** Brasília é uma cidade planejada com amplos espaços verdes, incluindo o Parque da Cidade, um dos maiores parques urbanos do mundo.\n",
            "* **Cultura e artes:** A cidade abriga vários museus, teatros e centros culturais, como o Museu Nacional da República e o Teatro Nacional Cláudio Santoro.\n",
            "* **Gastronomia:** Brasília oferece uma culinária diversificada, que combina influências regionais e internacionais. Experimente pratos tradicionais brasileiros, como feijoada e churrasco, ou explore a culinária contemporânea em restaurantes sofisticados.\n",
            "* **Vida noturna:** Embora não seja tão agitada quanto outras grandes cidades brasileiras, Brasília tem uma vida noturna próspera, com bares, clubes e casas de show que oferecem música ao vivo, DJs e apresentações culturais.\n",
            "* **Compras:** Brasília possui vários shoppings e centros comerciais, oferecendo uma ampla gama de opções de compras, desde marcas de luxo até produtos locais.\n",
            "* **Lago Paranoá:** O Lago Paranoá é um grande lago artificial que oferece oportunidades para esportes aquáticos, passeios de barco e vistas panorâmicas da cidade.\n",
            "* **Monumento JK:** Este monumento imponente homenageia o ex-presidente Juscelino Kubitschek, que supervisionou a construção de Brasília.\n",
            "* **Torre de TV de Brasília:** Com 224 metros de altura, esta torre oferece vistas deslumbrantes da cidade e arredores.\n",
            "* **Palácio do Itamaraty:** A sede do Ministério das Relações Exteriores do Brasil, este palácio é um exemplo impressionante da arquitetura modernista e abriga uma coleção de arte brasileira.\n",
            "Digite uma pergunta: E quais são as três piores coisas?\n",
            "Embora Brasília ofereça muitas atrações e experiências positivas, também existem alguns aspectos negativos a serem considerados:\n",
            "\n",
            "* **Distância de outros centros urbanos:** Brasília está localizada no interior do Brasil, longe de outras grandes cidades como São Paulo e Rio de Janeiro. Isso pode tornar as viagens e o transporte mais demorados e caros.\n",
            "* **Falta de autenticidade cultural:** Como uma cidade planejada, Brasília às vezes pode parecer artificial ou sem o mesmo charme e vibração cultural de outras cidades brasileiras mais antigas.\n",
            "* **Trânsito:** O trânsito em Brasília pode ser intenso durante os horários de pico, especialmente nas principais vias expressas. Isso pode tornar os deslocamentos demorados e frustrantes.\n",
            "\n",
            "É importante notar que esses aspectos negativos são subjetivos e podem variar dependendo das preferências e experiências individuais.\n",
            "Digite uma pergunta: sair\n"
          ]
        }
      ]
    }
  ]
}